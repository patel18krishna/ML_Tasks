{
 "cells": [
  {
   "cell_type": "code",
   "execution_count": 1,
   "id": "465dbc7a",
   "metadata": {},
   "outputs": [],
   "source": [
    "import numpy as np\n",
    "from matplotlib import pyplot as plt "
   ]
  },
  {
   "cell_type": "code",
   "execution_count": 2,
   "id": "397c9f1e",
   "metadata": {},
   "outputs": [],
   "source": [
    "def sigmoid(z):\n",
    "    return 1/(1+np.exp(-z))"
   ]
  },
  {
   "cell_type": "code",
   "execution_count": 3,
   "id": "2d3c3950",
   "metadata": {},
   "outputs": [],
   "source": [
    "def initializeparameters(inputFeatures, neuronsInHiddenLayers, OutputFeatures):\n",
    "    w1 = np.random.randn(neuronsInHiddenLayers, inputFeatures)\n",
    "    w2 = np.random.randn(outputFeatures, neuronsInHiddenLayers)\n",
    "    b1 = np.zeros((neuronsInHiddenLayers, 1))\n",
    "    b2 = np.zeros((OutputFeatures, 1))\n",
    "    \n",
    "    parameters = {'w1':w1, 'w2': w2, 'b1': b1, 'b2': b2}\n",
    "    return parameters"
   ]
  },
  {
   "cell_type": "code",
   "execution_count": 4,
   "id": "4a34c874",
   "metadata": {},
   "outputs": [],
   "source": [
    "#forward propagation\n",
    "def forwardpropagation(X,Y,parameters):\n",
    "    m = X.shape[1]\n",
    "    w1 = parameters[\"w1\"]\n",
    "    w2 = parameters[\"w2\"]\n",
    "    b1 = parameters[\"b1\"]\n",
    "    b2 = parameters[\"b2\"]\n",
    "    \n",
    "    z1 = np.dot(w1, X) + b1\n",
    "    A1 = sigmoid(z1)\n",
    "    z2 = np.dot(w2, A1) + b2\n",
    "    A2 = sigmoid(z2)\n",
    "        \n",
    "    cache = (w1, b1, z1, A1, w2, b2, z2, A2)\n",
    "    log_probability = np.multiply(np.log(A2), Y) + np.multiply(np.log(1 - A2), (1 - Y))\n",
    "    cost = -np.sum(log_probability) / m\n",
    "    return cost, cache, A2"
   ]
  },
  {
   "cell_type": "code",
   "execution_count": 5,
   "id": "2c95fe0d",
   "metadata": {},
   "outputs": [],
   "source": [
    "#backward propagation \n",
    "def backwardpropagation(X,Y,cache):\n",
    "    m = X.shape[1]\n",
    "    (w1, b1, z1, A1, w2, b2, z2, A2) = cache\n",
    "    \n",
    "    dz2 = A2 - Y\n",
    "    dw2 = np.dot(dz2, A1.T) / m\n",
    "    db2 = np.sum(dz2, axis = 1, keepdims = True)\n",
    "    \n",
    "    dA1 = np.dot(w2.T, dz2)\n",
    "    dz1 = np.multiply(dA1, A1 *(1 - A1))\n",
    "    dw1 = np.dot(dz1, X.T) / m\n",
    "    db1 = np.sum(dz1, axis = 1, keepdims = True) / m\n",
    "    \n",
    "    gradients = {\"dz2\" : dz2, \"dw2\" : dw2, \"db2\": db2,\n",
    "                 \"dz1\" : dz1, \"dw1\" : dw1, \"db1\": db1}\n",
    "    return gradients "
   ]
  },
  {
   "cell_type": "code",
   "execution_count": 6,
   "id": "db4feb14",
   "metadata": {},
   "outputs": [],
   "source": [
    "#updating weights based on negative gradients \n",
    "def updating_parameters(parameters, gradient, learning_rate):\n",
    "    parameters[\"w1\"] = parameters[\"w1\"] - learning_rate * gradients[\"dw1\"]\n",
    "    parameters[\"w2\"] = parameters[\"w2\"] - learning_rate * gradients[\"dw2\"]\n",
    "    parameters[\"b1\"] = parameters[\"b1\"] - learning_rate * gradients[\"db1\"]\n",
    "    parameters[\"b2\"] = parameters[\"b2\"] - learning_rate * gradients[\"db2\"]\n",
    "    \n",
    "    return parameters"
   ]
  },
  {
   "cell_type": "code",
   "execution_count": 7,
   "id": "2ca85519",
   "metadata": {},
   "outputs": [],
   "source": [
    "#XOR truth table input and expected output  \n",
    "X = np.array([[0,1,0,1],[0,0,1,1]])\n",
    "Y = np.array([[0,1,1,0]])"
   ]
  },
  {
   "cell_type": "code",
   "execution_count": 8,
   "id": "5435e208",
   "metadata": {},
   "outputs": [],
   "source": [
    "# Define model parameters\n",
    "neuronsInHiddenLayers = 2 \n",
    "inputFeatures = X.shape[0] \n",
    "outputFeatures = Y.shape[0] \n",
    "parameters = initializeparameters(inputFeatures, neuronsInHiddenLayers, outputFeatures)\n",
    "epoch = 100000\n",
    "learningRate = 0.01\n",
    "losses = np.zeros((epoch, 1))\n",
    " \n",
    "for i in range(epoch):\n",
    "    losses[i, 0], cache, A2 = forwardpropagation(X, Y, parameters)\n",
    "    gradients = backwardpropagation(X, Y, cache)\n",
    "    parameters = updating_parameters(parameters, gradients, learningRate)"
   ]
  },
  {
   "cell_type": "code",
   "execution_count": 9,
   "id": "4c774cee",
   "metadata": {},
   "outputs": [
    {
     "data": {
      "image/png": "[encoded data removed]",
      "text/plain": [
       "<Figure size 640x480 with 1 Axes>"
      ]
     },
     "metadata": {},
     "output_type": "display_data"
    }
   ],
   "source": [
    "# Evaluating the performance\n",
    "plt.figure()\n",
    "plt.plot(losses)\n",
    "plt.xlabel(\"EPOCHS\")\n",
    "plt.ylabel(\"Loss value\")\n",
    "plt.show()"
   ]
  },
  {
   "cell_type": "code",
   "execution_count": 10,
   "id": "b08aa75b",
   "metadata": {},
   "outputs": [
    {
     "name": "stdout",
     "output_type": "stream",
     "text": [
      "[[1. 0. 0. 1.]]\n"
     ]
    }
   ],
   "source": [
    "# Testing\n",
    "X = np.array([[1, 1, 0, 0], [0, 1, 0, 1]]) # XOR input\n",
    "cost, _, A2 = forwardpropagation(X, Y, parameters)\n",
    "prediction = (A2 > 0.8) * 1.0\n",
    "# print(A2)\n",
    "print(prediction)"
   ]
  },
  {
   "cell_type": "code",
   "execution_count": null,
   "id": "c92b3671",
   "metadata": {},
   "outputs": [],
   "source": []
  }
 ],
 "metadata": {
  "kernelspec": {
   "display_name": "Python 3 (ipykernel)",
   "language": "python",
   "name": "python3"
  },
  "language_info": {
   "codemirror_mode": {
    "name": "ipython",
    "version": 3
   },
   "file_extension": ".py",
   "mimetype": "text/x-python",
   "name": "python",
   "nbconvert_exporter": "python",
   "pygments_lexer": "ipython3",
   "version": "3.10.11"
  }
 },
 "nbformat": 4,
 "nbformat_minor": 5
}
