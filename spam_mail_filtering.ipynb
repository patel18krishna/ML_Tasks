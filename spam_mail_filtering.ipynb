{
  "nbformat": 4,
  "nbformat_minor": 0,
  "metadata": {
    "colab": {
      "provenance": [],
      "authorship_tag": "ABX9TyOaLATnA3slkD+2PdxHryGp",
      "include_colab_link": true
    },
    "kernelspec": {
      "name": "python3",
      "display_name": "Python 3"
    },
    "language_info": {
      "name": "python"
    }
  },
  "cells": [
    {
      "cell_type": "markdown",
      "metadata": {
        "id": "view-in-github",
        "colab_type": "text"
      },
      "source": [
        "<a href=\"https://colab.research.google.com/github/patel18krishna/ML_Tasks/blob/main/spam_mail_filtering.ipynb\" target=\"_parent\"><img src=\"https://colab.research.google.com/assets/colab-badge.svg\" alt=\"Open In Colab\"/></a>"
      ]
    },
    {
      "cell_type": "code",
      "execution_count": 1,
      "metadata": {
        "id": "PDbnf3JPoIvi"
      },
      "outputs": [],
      "source": [
        "train_spam = ['send us your password', 'review our website', 'send your password', 'send us your account']\n",
        "train_ham = ['Your activity report','benefits physical activity', 'the importance vows']\n",
        "test_emails = {'spam':['renew your password', 'renew your vows'], 'ham':['benefits of our account', 'the importance of physical activity']}"
      ]
    },
    {
      "cell_type": "code",
      "source": [
        "# make a vocabulary of unique words that occur in known spam emails\n",
        "vocab_words_spam = []\n",
        "\n",
        "for sentence in train_spam:\n",
        "    sentence_as_list = sentence.split()\n",
        "    for word in sentence_as_list:\n",
        "        vocab_words_spam.append(word)\n",
        "\n",
        "print(vocab_words_spam)\n",
        "['send', 'us', 'your', 'password', 'review', 'our', 'website', 'send', 'your', 'password', 'send', 'us', 'your', 'account']"
      ],
      "metadata": {
        "colab": {
          "base_uri": "https://localhost:8080/"
        },
        "id": "9JxUD4v_oha-",
        "outputId": "b323597c-fbc7-47a3-b3f9-164d76c9b1d6"
      },
      "execution_count": 3,
      "outputs": [
        {
          "output_type": "stream",
          "name": "stdout",
          "text": [
            "['send', 'us', 'your', 'password', 'review', 'our', 'website', 'send', 'your', 'password', 'send', 'us', 'your', 'account']\n"
          ]
        },
        {
          "output_type": "execute_result",
          "data": {
            "text/plain": [
              "['send',\n",
              " 'us',\n",
              " 'your',\n",
              " 'password',\n",
              " 'review',\n",
              " 'our',\n",
              " 'website',\n",
              " 'send',\n",
              " 'your',\n",
              " 'password',\n",
              " 'send',\n",
              " 'us',\n",
              " 'your',\n",
              " 'account']"
            ]
          },
          "metadata": {},
          "execution_count": 3
        }
      ]
    },
    {
      "cell_type": "code",
      "source": [
        "vocab_unique_words_spam = list(dict.fromkeys(vocab_words_spam))\n",
        "print(vocab_unique_words_spam)\n",
        "['send', 'us', 'your', 'password', 'review', 'our', 'website', 'account']"
      ],
      "metadata": {
        "colab": {
          "base_uri": "https://localhost:8080/"
        },
        "id": "T8Ss9QBGohoB",
        "outputId": "c19200f9-81f4-4303-a9fd-768f686f3260"
      },
      "execution_count": 4,
      "outputs": [
        {
          "output_type": "stream",
          "name": "stdout",
          "text": [
            "['send', 'us', 'your', 'password', 'review', 'our', 'website', 'account']\n"
          ]
        },
        {
          "output_type": "execute_result",
          "data": {
            "text/plain": [
              "['send', 'us', 'your', 'password', 'review', 'our', 'website', 'account']"
            ]
          },
          "metadata": {},
          "execution_count": 4
        }
      ]
    },
    {
      "cell_type": "code",
      "source": [
        "dict_spamicity = {}\n",
        "for w in vocab_unique_words_spam:\n",
        "    emails_with_w = 0     # counter\n",
        "    for sentence in train_spam:\n",
        "        if w in sentence:\n",
        "            emails_with_w+=1\n",
        "\n",
        "\n",
        "    total_spam = len(train_spam)\n",
        "    spamicity = (emails_with_w+1)/(total_spam+2)\n",
        "    dict_spamicity[w.lower()] = spamicity"
      ],
      "metadata": {
        "id": "JbTYTZGCohq9"
      },
      "execution_count": 5,
      "outputs": []
    },
    {
      "cell_type": "code",
      "source": [
        "vocab_words_ham = []\n",
        "\n",
        "for sentence in train_ham:\n",
        "    sentence_as_list = sentence.split()\n",
        "    for word in sentence_as_list:\n",
        "        vocab_words_ham.append(word)\n",
        "\n",
        "vocab_unique_words_ham = list(dict.fromkeys(vocab_words_ham))\n",
        "print(vocab_unique_words_ham)\n"
      ],
      "metadata": {
        "colab": {
          "base_uri": "https://localhost:8080/"
        },
        "id": "tcLaxHoQohtt",
        "outputId": "08573068-af9d-482a-f895-771575cae836"
      },
      "execution_count": 7,
      "outputs": [
        {
          "output_type": "stream",
          "name": "stdout",
          "text": [
            "['Your', 'activity', 'report', 'benefits', 'physical', 'the', 'importance', 'vows']\n"
          ]
        }
      ]
    },
    {
      "cell_type": "code",
      "source": [
        "dict_hamicity = {}\n",
        "for w in vocab_unique_words_ham:\n",
        "    emails_with_w = 0     # counter\n",
        "    for sentence in train_ham:\n",
        "        if w in sentence:\n",
        "            print(w+\":\", sentence)\n",
        "            emails_with_w+=1\n",
        "\n",
        "    print(f\"Number of ham emails with the word '{w}': {emails_with_w}\")\n",
        "    total_ham = len(train_ham)\n",
        "    Hamicity = (emails_with_w+1)/(total_ham+2)       # Smoothing applied\n",
        "    print(f\"Hamicity of the word '{w}': {Hamicity} \")\n",
        "    dict_hamicity[w.lower()] = Hamicity"
      ],
      "metadata": {
        "colab": {
          "base_uri": "https://localhost:8080/"
        },
        "id": "F4XO515hohwe",
        "outputId": "d0d05867-5374-4aae-f6d0-653204db38b6"
      },
      "execution_count": 8,
      "outputs": [
        {
          "output_type": "stream",
          "name": "stdout",
          "text": [
            "Your: Your activity report\n",
            "Number of ham emails with the word 'Your': 1\n",
            "Hamicity of the word 'Your': 0.4 \n",
            "activity: Your activity report\n",
            "activity: benefits physical activity\n",
            "Number of ham emails with the word 'activity': 2\n",
            "Hamicity of the word 'activity': 0.6 \n",
            "report: Your activity report\n",
            "Number of ham emails with the word 'report': 1\n",
            "Hamicity of the word 'report': 0.4 \n",
            "benefits: benefits physical activity\n",
            "Number of ham emails with the word 'benefits': 1\n",
            "Hamicity of the word 'benefits': 0.4 \n",
            "physical: benefits physical activity\n",
            "Number of ham emails with the word 'physical': 1\n",
            "Hamicity of the word 'physical': 0.4 \n",
            "the: the importance vows\n",
            "Number of ham emails with the word 'the': 1\n",
            "Hamicity of the word 'the': 0.4 \n",
            "importance: the importance vows\n",
            "Number of ham emails with the word 'importance': 1\n",
            "Hamicity of the word 'importance': 0.4 \n",
            "vows: the importance vows\n",
            "Number of ham emails with the word 'vows': 1\n",
            "Hamicity of the word 'vows': 0.4 \n"
          ]
        }
      ]
    },
    {
      "cell_type": "code",
      "source": [
        "prob_spam = len(train_spam) / (len(train_spam)+(len(train_ham)))\n",
        "print(prob_spam)"
      ],
      "metadata": {
        "colab": {
          "base_uri": "https://localhost:8080/"
        },
        "id": "z6DWkUjTohz5",
        "outputId": "91fde208-54f5-4b82-88b9-1fa6fc2d4d68"
      },
      "execution_count": 9,
      "outputs": [
        {
          "output_type": "stream",
          "name": "stdout",
          "text": [
            "0.5714285714285714\n"
          ]
        }
      ]
    },
    {
      "cell_type": "code",
      "source": [
        "prob_ham = len(train_ham) / (len(train_spam)+(len(train_ham)))\n",
        "print(prob_ham)"
      ],
      "metadata": {
        "colab": {
          "base_uri": "https://localhost:8080/"
        },
        "id": "xaKdpNwqoh2e",
        "outputId": "79366660-1599-4d62-d931-fec0d5277e3e"
      },
      "execution_count": 10,
      "outputs": [
        {
          "output_type": "stream",
          "name": "stdout",
          "text": [
            "0.42857142857142855\n"
          ]
        }
      ]
    },
    {
      "cell_type": "code",
      "source": [
        "tests = []\n",
        "for i in test_emails['spam']:\n",
        "    tests.append(i)\n",
        "\n",
        "for i in test_emails['ham']:\n",
        "    tests.append(i)\n",
        "\n",
        "print(tests)"
      ],
      "metadata": {
        "colab": {
          "base_uri": "https://localhost:8080/"
        },
        "id": "5utvLrt4oh4Q",
        "outputId": "7489f2ac-dda4-4228-83f8-e742a0068cf6"
      },
      "execution_count": 11,
      "outputs": [
        {
          "output_type": "stream",
          "name": "stdout",
          "text": [
            "['renew your password', 'renew your vows', 'benefits of our account', 'the importance of physical activity']\n"
          ]
        }
      ]
    },
    {
      "cell_type": "code",
      "source": [
        "distinct_words_as_sentences_test = []\n",
        "\n",
        "for sentence in tests:\n",
        "    sentence_as_list = sentence.split()\n",
        "    senten = []\n",
        "    for word in sentence_as_list:\n",
        "        senten.append(word)\n",
        "    distinct_words_as_sentences_test.append(senten)\n",
        "\n",
        "print(distinct_words_as_sentences_test)"
      ],
      "metadata": {
        "colab": {
          "base_uri": "https://localhost:8080/"
        },
        "id": "ILJLE6Fdoh7q",
        "outputId": "5188768f-4175-493a-c241-c70b1639eb38"
      },
      "execution_count": 13,
      "outputs": [
        {
          "output_type": "stream",
          "name": "stdout",
          "text": [
            "[['renew', 'your', 'password'], ['renew', 'your', 'vows'], ['benefits', 'of', 'our', 'account'], ['the', 'importance', 'of', 'physical', 'activity']]\n"
          ]
        }
      ]
    },
    {
      "cell_type": "code",
      "source": [
        "test_spam_tokenized = [distinct_words_as_sentences_test[0], distinct_words_as_sentences_test[1]]\n",
        "test_ham_tokenized = [distinct_words_as_sentences_test[2], distinct_words_as_sentences_test[3]]\n",
        "print(test_spam_tokenized)"
      ],
      "metadata": {
        "colab": {
          "base_uri": "https://localhost:8080/"
        },
        "id": "MMP0IXNoptbY",
        "outputId": "e3cb2bdb-0e26-4041-e0ec-2a0c0ebaac15"
      },
      "execution_count": 14,
      "outputs": [
        {
          "output_type": "stream",
          "name": "stdout",
          "text": [
            "[['renew', 'your', 'password'], ['renew', 'your', 'vows']]\n"
          ]
        }
      ]
    },
    {
      "cell_type": "code",
      "source": [
        "reduced_sentences_spam_test = []\n",
        "for sentence in test_spam_tokenized:\n",
        "    words_ = []\n",
        "    for word in sentence:\n",
        "        if word in vocab_unique_words_spam:\n",
        "            print(f\"'{word}', ok\")\n",
        "            words_.append(word)\n",
        "        elif word in vocab_unique_words_ham:\n",
        "            print(f\"'{word}', ok\")\n",
        "            words_.append(word)\n",
        "        else:\n",
        "            print(f\"'{word}', word not present in labelled spam training data\")\n",
        "    reduced_sentences_spam_test.append(words_)\n",
        "print(reduced_sentences_spam_test)"
      ],
      "metadata": {
        "colab": {
          "base_uri": "https://localhost:8080/"
        },
        "id": "rmaj65QzpzXP",
        "outputId": "8688f541-32fd-4a51-bb69-b283e2afe032"
      },
      "execution_count": 15,
      "outputs": [
        {
          "output_type": "stream",
          "name": "stdout",
          "text": [
            "'renew', word not present in labelled spam training data\n",
            "'your', ok\n",
            "'password', ok\n",
            "'renew', word not present in labelled spam training data\n",
            "'your', ok\n",
            "'vows', ok\n",
            "[['your', 'password'], ['your', 'vows']]\n"
          ]
        }
      ]
    },
    {
      "cell_type": "code",
      "source": [
        "reduced_sentences_ham_test = []                   # repeat for ham words\n",
        "for sentence in test_ham_tokenized:\n",
        "    words_ = []\n",
        "    for word in sentence:\n",
        "        if word in vocab_unique_words_ham:\n",
        "            print(f\"'{word}', ok\")\n",
        "            words_.append(word)\n",
        "        elif word in vocab_unique_words_spam:\n",
        "            print(f\"'{word}', ok\")\n",
        "            words_.append(word)\n",
        "        else:\n",
        "            print(f\"'{word}', word not present in labelled ham training data\")\n",
        "    reduced_sentences_ham_test.append(words_)\n",
        "print(reduced_sentences_ham_test)"
      ],
      "metadata": {
        "colab": {
          "base_uri": "https://localhost:8080/"
        },
        "id": "qslQ4xQNpzap",
        "outputId": "04ee41f6-535c-49f4-b22e-9f3ad1ed6b16"
      },
      "execution_count": 16,
      "outputs": [
        {
          "output_type": "stream",
          "name": "stdout",
          "text": [
            "'benefits', ok\n",
            "'of', word not present in labelled ham training data\n",
            "'our', ok\n",
            "'account', ok\n",
            "'the', ok\n",
            "'importance', ok\n",
            "'of', word not present in labelled ham training data\n",
            "'physical', ok\n",
            "'activity', ok\n",
            "[['benefits', 'our', 'account'], ['the', 'importance', 'physical', 'activity']]\n"
          ]
        }
      ]
    },
    {
      "cell_type": "code",
      "source": [
        "test_spam_stemmed = []\n",
        "non_key = ['us',  'the', 'of','your']       # non-key words, gathered from spam,ham and test sentences\n",
        "for email in reduced_sentences_spam_test:\n",
        "    email_stemmed=[]\n",
        "    for word in email:\n",
        "        if word in non_key:\n",
        "            print('remove')\n",
        "        else:\n",
        "            email_stemmed.append(word)\n",
        "    test_spam_stemmed.append(email_stemmed)\n",
        "\n",
        "print(test_spam_stemmed)"
      ],
      "metadata": {
        "colab": {
          "base_uri": "https://localhost:8080/"
        },
        "id": "sQqEeCrspzcs",
        "outputId": "a354247e-29ef-467b-b1ba-e82d81c2002d"
      },
      "execution_count": 17,
      "outputs": [
        {
          "output_type": "stream",
          "name": "stdout",
          "text": [
            "remove\n",
            "remove\n",
            "[['password'], ['vows']]\n"
          ]
        }
      ]
    },
    {
      "cell_type": "code",
      "source": [
        "test_ham_stemmed = []\n",
        "non_key = ['us',  'the', 'of', 'your']\n",
        "for email in reduced_sentences_ham_test:\n",
        "    email_stemmed=[]\n",
        "    for word in email:\n",
        "        if word in non_key:\n",
        "            print('remove')\n",
        "        else:\n",
        "            email_stemmed.append(word)\n",
        "    test_ham_stemmed.append(email_stemmed)\n",
        "\n",
        "print(test_ham_stemmed)\n"
      ],
      "metadata": {
        "colab": {
          "base_uri": "https://localhost:8080/"
        },
        "id": "IAxijQBxpzgi",
        "outputId": "d0e7bdbc-875f-48a3-ae1e-7153926e4616"
      },
      "execution_count": 18,
      "outputs": [
        {
          "output_type": "stream",
          "name": "stdout",
          "text": [
            "remove\n",
            "[['benefits', 'our', 'account'], ['importance', 'physical', 'activity']]\n"
          ]
        }
      ]
    },
    {
      "cell_type": "code",
      "source": [
        "def mult(list_) :        # function to multiply all word probs together\n",
        "    total_prob = 1\n",
        "    for i in list_:\n",
        "         total_prob = total_prob * i\n",
        "    return total_prob\n",
        "\n",
        "def Bayes(email):\n",
        "    probs = []\n",
        "    for word in email:\n",
        "        Pr_S = prob_spam\n",
        "        print('prob of spam in general ',Pr_S)\n",
        "        try:\n",
        "            pr_WS = dict_spamicity[word]\n",
        "            print(f'prob \"{word}\"  is a spam word : {pr_WS}')\n",
        "        except KeyError:\n",
        "            pr_WS = 1/(total_spam+2)  # Apply smoothing for word not seen in spam training data, but seen in ham training\n",
        "            print(f\"prob '{word}' is a spam word: {pr_WS}\")\n",
        "\n",
        "        Pr_H = prob_ham\n",
        "        print('prob of ham in general ', Pr_H)\n",
        "        try:\n",
        "            pr_WH = dict_hamicity[word]\n",
        "            print(f'prob \"{word}\" is a ham word: ',pr_WH)\n",
        "        except KeyError:\n",
        "            pr_WH = (1/(total_ham+2))  # Apply smoothing for word not seen in ham training data, but seen in spam training\n",
        "            print(f\"WH for {word} is {pr_WH}\")\n",
        "            print(f\"prob '{word}' is a ham word: {pr_WH}\")\n",
        "\n",
        "        prob_word_is_spam_BAYES = (pr_WS*Pr_S)/((pr_WS*Pr_S)+(pr_WH*Pr_H))\n",
        "        print('')\n",
        "        print(f\"Using Bayes, prob the the word '{word}' is spam: {prob_word_is_spam_BAYES}\")\n",
        "        print('###########################')\n",
        "        probs.append(prob_word_is_spam_BAYES)\n",
        "    print(f\"All word probabilities for this sentence: {probs}\")\n",
        "    final_classification = mult(probs)\n",
        "    if final_classification >= 0.5:\n",
        "        print(f'email is SPAM: with spammy confidence of {final_classification*100}%')\n",
        "    else:\n",
        "        print(f'email is HAM: with spammy confidence of {final_classification*100}%')\n",
        "    return final_classification\n",
        "for email in test_spam_stemmed:\n",
        "    print('')\n",
        "    print(f\"           Testing stemmed SPAM email {email} :\")\n",
        "    print('                 Test word by word: ')\n",
        "    all_word_probs = Bayes(email)\n",
        "    print(all_word_probs)\n"
      ],
      "metadata": {
        "colab": {
          "base_uri": "https://localhost:8080/"
        },
        "id": "Qz0_zyZEqXqr",
        "outputId": "d58d35e6-b63b-4a63-b5df-dc79104fd093"
      },
      "execution_count": 20,
      "outputs": [
        {
          "output_type": "stream",
          "name": "stdout",
          "text": [
            "\n",
            "           Testing stemmed SPAM email ['password'] :\n",
            "                 Test word by word: \n",
            "prob of spam in general  0.5714285714285714\n",
            "prob \"password\"  is a spam word : 0.5\n",
            "prob of ham in general  0.42857142857142855\n",
            "WH for password is 0.2\n",
            "prob 'password' is a ham word: 0.2\n",
            "\n",
            "Using Bayes, prob the the word 'password' is spam: 0.7692307692307692\n",
            "###########################\n",
            "All word probabilities for this sentence: [0.7692307692307692]\n",
            "email is SPAM: with spammy confidence of 76.92307692307692%\n",
            "0.7692307692307692\n",
            "\n",
            "           Testing stemmed SPAM email ['vows'] :\n",
            "                 Test word by word: \n",
            "prob of spam in general  0.5714285714285714\n",
            "prob 'vows' is a spam word: 0.16666666666666666\n",
            "prob of ham in general  0.42857142857142855\n",
            "prob \"vows\" is a ham word:  0.4\n",
            "\n",
            "Using Bayes, prob the the word 'vows' is spam: 0.35714285714285715\n",
            "###########################\n",
            "All word probabilities for this sentence: [0.35714285714285715]\n",
            "email is HAM: with spammy confidence of 35.714285714285715%\n",
            "0.35714285714285715\n"
          ]
        }
      ]
    }
  ]
}